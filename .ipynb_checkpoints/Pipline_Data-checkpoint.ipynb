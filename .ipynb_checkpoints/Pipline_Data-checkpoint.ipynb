{
 "cells": [
  {
   "cell_type": "code",
   "execution_count": 32,
   "id": "58e6fb2a-e616-44b6-9706-de1e844cf3ab",
   "metadata": {},
   "outputs": [],
   "source": [
    "from datetime import datetime\n",
    "from airflow import DAG\n",
    "from airflow.operators.python import PythonOperator\n",
    "import requests\n",
    "import json"
   ]
  },
  {
   "cell_type": "code",
   "execution_count": 3,
   "id": "6bca53ad-e2d6-47b3-9d3c-118b819e4fa0",
   "metadata": {},
   "outputs": [],
   "source": [
    "defaut_arguments ={\n",
    "    'Utilisateur':'Georges',\n",
    "    'data_debut':datetime(2024, 9, 30, 23, 12)\n",
    "}"
   ]
  },
  {
   "cell_type": "code",
   "execution_count": null,
   "id": "ae0697fc-1752-4ed9-afc5-f51144bcd65e",
   "metadata": {},
   "outputs": [],
   "source": [
    "### Recuperation de données en format json"
   ]
  },
  {
   "cell_type": "code",
   "execution_count": 17,
   "id": "db7ec43c-623d-4566-a3d9-e5c802b74198",
   "metadata": {},
   "outputs": [],
   "source": [
    "def get_data():\n",
    "    reponse = requests.get(\"https://randomuser.me/api/\")\n",
    "    reponse = reponse.json()\n",
    "    reponse = reponse['results'][0]\n",
    "    return reponse\n",
    "reponse=get_data()"
   ]
  },
  {
   "cell_type": "code",
   "execution_count": 21,
   "id": "5c2f637e-77cd-497c-b22c-c0f1deb4739b",
   "metadata": {},
   "outputs": [
    {
     "data": {
      "text/plain": [
       "{'gender': 'female',\n",
       " 'name': {'title': 'Mrs', 'first': 'Anna', 'last': 'Rice'},\n",
       " 'location': {'street': {'number': 3304, 'name': 'Main Street'},\n",
       "  'city': 'Monaghan',\n",
       "  'state': 'Donegal',\n",
       "  'country': 'Ireland',\n",
       "  'postcode': 21822,\n",
       "  'coordinates': {'latitude': '0.2192', 'longitude': '6.8302'},\n",
       "  'timezone': {'offset': '+9:00',\n",
       "   'description': 'Tokyo, Seoul, Osaka, Sapporo, Yakutsk'}},\n",
       " 'email': 'anna.rice@example.com',\n",
       " 'login': {'uuid': '1c6e56a2-28d5-4316-9e4a-e11eb3f23f5b',\n",
       "  'username': 'purpleswan178',\n",
       "  'password': 'dogman',\n",
       "  'salt': 'GYxlgy15',\n",
       "  'md5': '84a0e8e8c8c78af1b5c8b90f61174abb',\n",
       "  'sha1': '2678a11799635715fd6e0d7df3f54e7f13752d3d',\n",
       "  'sha256': 'ab2cb2b7f193cfcf896dd1cfaac8abe68529f65f0f06d62c9d14a8bd3a708730'},\n",
       " 'dob': {'date': '1951-06-20T18:55:44.296Z', 'age': 73},\n",
       " 'registered': {'date': '2020-07-09T04:35:07.103Z', 'age': 3},\n",
       " 'phone': '021-912-9375',\n",
       " 'cell': '081-134-7441',\n",
       " 'id': {'name': 'PPS', 'value': '8798807T'},\n",
       " 'picture': {'large': 'https://randomuser.me/api/portraits/women/67.jpg',\n",
       "  'medium': 'https://randomuser.me/api/portraits/med/women/67.jpg',\n",
       "  'thumbnail': 'https://randomuser.me/api/portraits/thumb/women/67.jpg'},\n",
       " 'nat': 'IE'}"
      ]
     },
     "execution_count": 21,
     "metadata": {},
     "output_type": "execute_result"
    }
   ],
   "source": [
    "reponse"
   ]
  },
  {
   "cell_type": "code",
   "execution_count": 6,
   "id": "61b7e477-5b9d-455b-bffa-a0cd55d3cd5e",
   "metadata": {
    "collapsed": true,
    "jupyter": {
     "outputs_hidden": true
    }
   },
   "outputs": [
    {
     "data": {
      "text/plain": [
       "{'results': [{'gender': 'male',\n",
       "   'name': {'title': 'Mr', 'first': 'Elijah', 'last': 'Brown'},\n",
       "   'location': {'street': {'number': 1987, 'name': 'New North Road'},\n",
       "    'city': 'Hamilton',\n",
       "    'state': 'Marlborough',\n",
       "    'country': 'New Zealand',\n",
       "    'postcode': 35052,\n",
       "    'coordinates': {'latitude': '53.5759', 'longitude': '-109.1964'},\n",
       "    'timezone': {'offset': '+4:00',\n",
       "     'description': 'Abu Dhabi, Muscat, Baku, Tbilisi'}},\n",
       "   'email': 'elijah.brown@example.com',\n",
       "   'login': {'uuid': '50a39464-fdfc-4022-b1e0-5207ba9501a1',\n",
       "    'username': 'tinybear382',\n",
       "    'password': 'adriana',\n",
       "    'salt': '927UclkT',\n",
       "    'md5': '41f75887f4eb994847b5f863b57d7221',\n",
       "    'sha1': 'b0de4ec2c7f0e8c253c374bf6779c23b40b028eb',\n",
       "    'sha256': '9ccc4d4a9dfc1c8a31e0b9095d02d6e55a2dc75b052ecd042363f303ae4e1443'},\n",
       "   'dob': {'date': '1954-11-13T20:57:38.013Z', 'age': 69},\n",
       "   'registered': {'date': '2002-11-11T22:29:02.486Z', 'age': 21},\n",
       "   'phone': '(766)-300-6051',\n",
       "   'cell': '(515)-643-6439',\n",
       "   'id': {'name': '', 'value': None},\n",
       "   'picture': {'large': 'https://randomuser.me/api/portraits/men/47.jpg',\n",
       "    'medium': 'https://randomuser.me/api/portraits/med/men/47.jpg',\n",
       "    'thumbnail': 'https://randomuser.me/api/portraits/thumb/men/47.jpg'},\n",
       "   'nat': 'NZ'}],\n",
       " 'info': {'seed': '9a649e6ba39ed0f7',\n",
       "  'results': 1,\n",
       "  'page': 1,\n",
       "  'version': '1.4'}}"
      ]
     },
     "execution_count": 6,
     "metadata": {},
     "output_type": "execute_result"
    }
   ],
   "source": [
    "#### standardisation du formats de données"
   ]
  },
  {
   "cell_type": "code",
   "execution_count": 29,
   "id": "22b3e42e-1685-448b-b839-3153e39d45b7",
   "metadata": {},
   "outputs": [],
   "source": [
    "def formatage_data(reponse):\n",
    "    location = reponse['location']\n",
    "    login = reponse['login']\n",
    "    dict_data ={}\n",
    "    dict_data['Nom'] = reponse['name']['first']\n",
    "    dict_data['Prenom']= reponse['name']['last']\n",
    "    dict_data['genre']= reponse['gender']\n",
    "    dict_data['Adresse'] = f\"{str(location['street']['number'])} {location['street']['name']}, {location['city']}, {location['state']}, {location['country']}\"\n",
    "\n",
    "    dict_data['codePostale'] = location['postcode']\n",
    "    dict_data['email'] = reponse['email']\n",
    "    dict_data['username'] = login['username']\n",
    "    dict_data['id_login'] =login['uuid']\n",
    "    dict_data['password'] = login['password']\n",
    "    dict_data['numero'] = reponse['phone']\n",
    "    dict_data['dob'] = reponse['dob']['date']\n",
    "    dict_data['registred_data'] = reponse['registered']['date']\n",
    "    dict_data['image_user'] = reponse['picture']['large']\n",
    "    return dict_data\n",
    "\n",
    "                             \n",
    "    "
   ]
  },
  {
   "cell_type": "code",
   "execution_count": null,
   "id": "24def0aa-2fcc-4855-953c-f3d03227d7bc",
   "metadata": {},
   "outputs": [],
   "source": [
    "dict_data = formatage_data(reponse)\n",
    "dict_data"
   ]
  },
  {
   "cell_type": "code",
   "execution_count": null,
   "id": "458045c6-5724-423b-bfbe-32d81eadb4a2",
   "metadata": {},
   "outputs": [],
   "source": [
    "### Creation de(s) fonction(s) qui seront appélées dans les taches du DAG "
   ]
  },
  {
   "cell_type": "code",
   "execution_count": 31,
   "id": "9305f857-3bd9-4d08-98db-4a4e17fb8a81",
   "metadata": {},
   "outputs": [
    {
     "data": {
      "text/plain": [
       "{'Nom': 'Anna',\n",
       " 'Prenom': 'Rice',\n",
       " 'genre': 'female',\n",
       " 'Adresse': '3304 Main Street, Monaghan, Donegal, Ireland',\n",
       " 'codePostale': 21822,\n",
       " 'email': 'anna.rice@example.com',\n",
       " 'username': 'purpleswan178',\n",
       " 'id_login': '1c6e56a2-28d5-4316-9e4a-e11eb3f23f5b',\n",
       " 'password': 'dogman',\n",
       " 'numero': '021-912-9375',\n",
       " 'dob': '1951-06-20T18:55:44.296Z',\n",
       " 'registred_data': '2020-07-09T04:35:07.103Z',\n",
       " 'image_user': 'https://randomuser.me/api/portraits/women/67.jpg'}"
      ]
     },
     "execution_count": 31,
     "metadata": {},
     "output_type": "execute_result"
    }
   ],
   "source": [
    "def stream_data():\n",
    "    reponse = get_data()\n",
    "    reponse = formatage_data(reponse)\n",
    "    print(json.dumps(reponse, indent = 3))"
   ]
  },
  {
   "cell_type": "code",
   "execution_count": null,
   "id": "09cdad38-5032-4a30-9abd-0b1a5d03ab5b",
   "metadata": {},
   "outputs": [],
   "source": [
    "### creation de mon DAG"
   ]
  },
  {
   "cell_type": "code",
   "execution_count": null,
   "id": "ab030faa-1d80-4f25-8fdd-cd70ae7815e2",
   "metadata": {},
   "outputs": [],
   "source": [
    "with DAG\n",
    "(\n",
    "    'automatisation_utilisateurs',\n",
    "    default_args=defaut_arguments,\n",
    "    shedule_interval =\"@daily\",\n",
    "    catchup=False\n",
    ") as dag:\n",
    "\n",
    " task_stream = PythonOperators\n",
    " (\n",
    "     task_id='données_streaming_from_api',\n",
    "     python_callable= stream_data\n",
    "     \n",
    " )"
   ]
  },
  {
   "cell_type": "code",
   "execution_count": 2,
   "id": "4572c499-c28e-48d8-879e-5e9680519252",
   "metadata": {},
   "outputs": [
    {
     "ename": "SyntaxError",
     "evalue": "invalid syntax (2513304506.py, line 1)",
     "output_type": "error",
     "traceback": [
      "\u001b[0;36m  Cell \u001b[0;32mIn[2], line 1\u001b[0;36m\u001b[0m\n\u001b[0;31m    d = @daily\u001b[0m\n\u001b[0m        ^\u001b[0m\n\u001b[0;31mSyntaxError\u001b[0m\u001b[0;31m:\u001b[0m invalid syntax\n"
     ]
    }
   ],
   "source": []
  },
  {
   "cell_type": "code",
   "execution_count": null,
   "id": "2cf5bf73-7081-4987-96e0-41bd1bc42bda",
   "metadata": {},
   "outputs": [],
   "source": []
  }
 ],
 "metadata": {
  "kernelspec": {
   "display_name": "Data_Ingeneering",
   "language": "python",
   "name": "data_ingeneering"
  },
  "language_info": {
   "codemirror_mode": {
    "name": "ipython",
    "version": 3
   },
   "file_extension": ".py",
   "mimetype": "text/x-python",
   "name": "python",
   "nbconvert_exporter": "python",
   "pygments_lexer": "ipython3",
   "version": "3.10.12"
  }
 },
 "nbformat": 4,
 "nbformat_minor": 5
}
